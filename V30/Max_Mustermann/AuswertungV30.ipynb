{
 "cells": [
  {
   "cell_type": "markdown",
   "metadata": {},
   "source": [
    "## V30"
   ]
  },
  {
   "cell_type": "code",
   "execution_count": null,
   "metadata": {},
   "outputs": [],
   "source": [
    "import numpy as np\n",
    "import matplotlib.pyplot as plt\n",
    "from scipy import constants\n",
    "e = constants.elementary_charge\n",
    "m_e = constants.electron_mass\n",
    "\n",
    "def B(I):\n",
    "    return 0.78e-3 * I\n",
    "def em(U, I, R):\n",
    "    return 2 * U / (B(I)**2 * R**2)\n",
    "def v(spez_elm):\n",
    "    return np.sqrt(1 * 2 * spez_elm)"
   ]
  },
  {
   "cell_type": "markdown",
   "metadata": {},
   "source": [
    "### Teil 3: Bestimmung von e/m"
   ]
  },
  {
   "cell_type": "code",
   "execution_count": null,
   "metadata": {},
   "outputs": [],
   "source": [
    "data = np.load(\"./DataV30Part1.npy\")\n",
    "voltage = data[0]\n",
    "current = data[1]\n",
    "diameter = data[2] # in cm\n",
    "radii = diameter / 2 * 1e-2 # in m\n",
    "\n",
    "e_over_m = em(voltage, current, radii)\n",
    "print(\"e/m [C/Kg] = \\n\", np.round(e_over_m, -8))\n",
    "print(\"Mittelwert = {0:.3e} C/Kg\".format(np.mean(e_over_m)))\n",
    "print(\"Literaturwert = {0:.3e} C/Kg\".format(e / m_e))"
   ]
  }
 ],
 "metadata": {
  "kernelspec": {
   "display_name": "Python 3",
   "language": "python",
   "name": "python3"
  },
  "language_info": {
   "codemirror_mode": {
    "name": "ipython",
    "version": 3
   },
   "file_extension": ".py",
   "mimetype": "text/x-python",
   "name": "python",
   "nbconvert_exporter": "python",
   "pygments_lexer": "ipython3",
   "version": "3.6.9"
  }
 },
 "nbformat": 4,
 "nbformat_minor": 2
}
