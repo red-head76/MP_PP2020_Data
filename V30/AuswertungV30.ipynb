{
 "cells": [
  {
   "cell_type": "markdown",
   "metadata": {},
   "source": [
    "## V30"
   ]
  },
  {
   "cell_type": "code",
   "execution_count": null,
   "metadata": {},
   "outputs": [],
   "source": [
    "import numpy as np\n",
    "import matplotlib.pyplot as plt\n",
    "from scipy import constants\n",
    "e = constants.elementary_charge\n",
    "m_e = constants.electron_mass\n",
    "\n",
    "def B(I):\n",
    "    return 0.78e-3 * I\n",
    "def em(U, I, R):\n",
    "    return 2 * U / (B(I)**2 * R**2)\n",
    "def v(spez_elm):\n",
    "    return np.sqrt(1 * 2 * spez_elm)"
   ]
  },
  {
   "cell_type": "markdown",
   "metadata": {},
   "source": [
    "### Teil 3: Bestimmung von e/m"
   ]
  },
  {
   "cell_type": "code",
   "execution_count": null,
   "metadata": {},
   "outputs": [],
   "source": [
    "data = np.load(\"./DataV30Part1.npy\")\n",
    "voltage = data[0]\n",
    "current = data[1]\n",
    "diameter = data[2] # in cm\n",
    "radii = diameter / 2 * 1e-2 # in m\n",
    "\n",
    "e_over_m = em(voltage, current, radii)\n",
    "print(\"e/m [C/Kg] = \\n\", np.round(e_over_m, -8))\n",
    "print(\"Mittelwert = {0:.3e} C/Kg\".format(np.mean(e_over_m)))\n",
    "print(\"Literaturwert = {0:.3e} C/Kg\".format(e / m_e))"
   ]
  },
  {
   "cell_type": "markdown",
   "metadata": {},
   "source": [
    "### Frage nach der Durchführung"
   ]
  },
  {
   "cell_type": "code",
   "execution_count": null,
   "metadata": {},
   "outputs": [],
   "source": [
    "m_e_calc = e / np.mean(e_over_m)\n",
    "print(\"m_e calculated = %.3e kg\" % m_e_calc)\n",
    "print(\"m (literature value) = %.3e kg\" % m_e)\n",
    "\n",
    "v_lit = np.sqrt(2 * e * 1 / m_e)\n",
    "v_calc = np.sqrt(2 * np.mean(e_over_m) * 1)\n",
    "print(\"velocity with literature values = %.3e m/s\" % v_lit)\n",
    "print(\"velocity with calculated e/m value = %.3e m/s\" % v_calc)"
   ]
  }
 ],
 "metadata": {
  "kernelspec": {
   "display_name": "Python 3",
   "language": "python",
   "name": "python3"
  },
  "language_info": {
   "codemirror_mode": {
    "name": "ipython",
    "version": 3
   },
   "file_extension": ".py",
   "mimetype": "text/x-python",
   "name": "python",
   "nbconvert_exporter": "python",
   "pygments_lexer": "ipython3",
   "version": "3.8.2"
  }
 },
 "nbformat": 4,
 "nbformat_minor": 2
}
