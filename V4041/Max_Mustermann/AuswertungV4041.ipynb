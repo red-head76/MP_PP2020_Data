{
 "cells": [
  {
   "cell_type": "markdown",
   "metadata": {},
   "source": [
    "## V40 / 41"
   ]
  },
  {
   "cell_type": "code",
   "execution_count": null,
   "metadata": {},
   "outputs": [],
   "source": [
    "import numpy as np"
   ]
  },
  {
   "cell_type": "markdown",
   "metadata": {},
   "source": [
    "## V40"
   ]
  },
  {
   "cell_type": "code",
   "execution_count": null,
   "metadata": {},
   "outputs": [],
   "source": [
    "# Brechkraft\n",
    "def D(g, b):\n",
    "    return 1 / g + 1 / b\n",
    "# Brechkraft System\n",
    "def Ds(f1, f2, d):\n",
    "    return 1 / f1 + 1 / f2 - d / (f1 * f2)\n",
    "# Brennweite\n",
    "def f(g, b):\n",
    "    return 1 / D(g, b)\n",
    "# Brennweite System\n",
    "def fs(f1, f2, d):\n",
    "    return 1 / Ds(f1, f2, d)"
   ]
  },
  {
   "cell_type": "markdown",
   "metadata": {},
   "source": [
    "### Teil 1: Sammellinsen"
   ]
  },
  {
   "cell_type": "markdown",
   "metadata": {},
   "source": [
    "### Linse 1"
   ]
  },
  {
   "cell_type": "code",
   "execution_count": null,
   "metadata": {},
   "outputs": [],
   "source": [
    "objectDistance1 = np.load(\"./DataV4041Part1_Lens1.npy\")[0] * 1e-2 # m\n",
    "imageDistance1 = np.load(\"./DataV4041Part1_Lens1.npy\")[1] * 1e-2 # m\n",
    "\n",
    "focusDistance1 = f(objectDistance1, imageDistance1)\n",
    "refractivity1 = 1 / focusDistance1\n",
    "\n",
    "print(\"Brennweite [m]:\\n\", np.round(focusDistance1, 3))\n",
    "print(\"Mittelwert Brennweite = {0:.3f} m\".format(np.mean(focusDistance1)))\n",
    "print(\"Brechkraft [dpt]:\\n\", np.round(refractivity1, 3))\n",
    "print(\"Mittelwert Brechkraft = {0:.3f} dpt\".format(np.mean(refractivity1)))"
   ]
  },
  {
   "cell_type": "markdown",
   "metadata": {},
   "source": [
    "### Linse 2"
   ]
  },
  {
   "cell_type": "code",
   "execution_count": null,
   "metadata": {},
   "outputs": [],
   "source": [
    "objectDistance2 = np.load(\"./DataV4041Part1_Lens2.npy\")[0] * 1e-2 # m\n",
    "imageDistance2 = np.load(\"./DataV4041Part1_Lens2.npy\")[1] * 1e-2 # m\n",
    "\n",
    "focusDistance2 = f(objectDistance2, imageDistance2)\n",
    "refractivity2 = 1 / focusDistance2\n",
    "\n",
    "print(\"Brennweite [m]:\\n\", np.round(focusDistance2, 3))\n",
    "print(\"Mittelwert Brennweite = {0:.3f} m\".format(np.mean(focusDistance2)))\n",
    "print(\"Brechkraft [dpt]:\\n\", np.round(refractivity2, 3))\n",
    "print(\"Mittelwert Brechkraft = {0:.3f} dpt\".format(np.mean(refractivity2)))"
   ]
  },
  {
   "cell_type": "markdown",
   "metadata": {},
   "source": [
    "### Teil 2: Linsensystem"
   ]
  },
  {
   "cell_type": "code",
   "execution_count": null,
   "metadata": {},
   "outputs": [],
   "source": [
    "objectDistance3 = np.load(\"./DataV4041Part2.npy\")[0] * 1e-2 # m\n",
    "imageDistance3 = np.load(\"./DataV4041Part2.npy\")[1] * 1e-2 # m\n",
    "lenseDistance3 = 0.03 # m\n",
    "\n",
    "focusDistance3 = fs(objectDistance3, imageDistance3, lenseDistance3)\n",
    "refractivity3 = 1 / focusDistance3\n",
    "\n",
    "focusDistance3_approx= fs(objectDistance3, imageDistance3, 0)\n",
    "refractivity3_approx = 1 / focusDistance3_approx\n",
    "\n",
    "print(\"Exaktere Werte:\")\n",
    "print(\"Brennweite = {0:.3f} m\".format(focusDistance3))\n",
    "print(\"Brechkraft = {0:.3f} dpt\".format(refractivity3))\n",
    "print()\n",
    "print(\"Mit Näherungsformel:\")\n",
    "print(\"Brennweite = {0:.3f} m\".format(focusDistance3_approx))\n",
    "print(\"Brechkraft = {0:.3f} dpt\".format(refractivity3_approx,))\n",
    "print()\n",
    "print(\"Relative Differenzen:\")\n",
    "print(\"Brennweite : {0} %\".format(round((focusDistance3 - focusDistance3_approx) / focusDistance3 * 100, 1)))\n",
    "print(\"Brechkraft : {0} %\".format(round((refractivity3 - refractivity3_approx) / refractivity3 * 100, 1)))"
   ]
  },
  {
   "cell_type": "markdown",
   "metadata": {},
   "source": [
    "### Teil 3: Zerstreulinse"
   ]
  },
  {
   "cell_type": "code",
   "execution_count": null,
   "metadata": {},
   "outputs": [],
   "source": [
    "objectDistance4 = np.load(\"./DataV4041Part3.npy\")[0] * 1e-2 # m\n",
    "imageDistance4 = np.load(\"./DataV4041Part3.npy\")[1] * 1e-2 # m\n",
    "lenseDistance4 = 0.03 # m\n",
    "\n",
    "focusDistance4 = fs(objectDistance4, imageDistance4, lenseDistance4)\n",
    "refractivity4 = 1 / focusDistance4\n",
    "refractivityLens3 = refractivity4 - np.mean(refractivity1)\n",
    "focusDistanceLens3 = 1 / refractivityLens3\n",
    "\n",
    "focusDistance4_approx= fs(objectDistance4, imageDistance4, 0)\n",
    "refractivity4_approx = 1 / focusDistance4_approx\n",
    "refractivityLens3_approx = refractivity4_approx - np.mean(refractivity1)\n",
    "focusDistanceLens3_approx = 1 / refractivityLens3_approx\n",
    "\n",
    "print(\"Exaktere Werte:\")\n",
    "print(\"Brennweite System = {0:.3f} m\".format(focusDistance4))\n",
    "print(\"Brechkraft Sytsem = {0:.3f} dpt\".format(refractivity4))\n",
    "print(\"Brennweite Linse3 = {0:.3f} m\".format(focusDistanceLens3))\n",
    "print(\"Brechkraft Linse3 = {0:.3f} dpt\".format(refractivityLens3))\n",
    "\n",
    "print()\n",
    "print(\"Mit Näherungsformel:\")\n",
    "print(\"Brennweite System = {0:.3f} m\".format(focusDistance4_approx))\n",
    "print(\"Brechkraft System = {0:.3f} dpt\".format(refractivity4_approx))\n",
    "print(\"Brennweite Linse3 = {0:.3f} m\".format(focusDistanceLens3_approx))\n",
    "print(\"Brechkraft Linse3 = {0:.3f} dpt\".format(refractivityLens3_approx))\n",
    "\n",
    "print()\n",
    "print(\"Relative Differenzen:\")\n",
    "print(\"Linsensystem:\")\n",
    "print(\"Brennweite : {0} %\".format(round((focusDistance4 - focusDistance4_approx) / focusDistance4 * 100, 1)))\n",
    "print(\"Brechkraft : {0} %\".format(round((refractivity4 - refractivity4_approx) / refractivity4 * 100, 1)))\n",
    "print(\"Linse 3\")\n",
    "print(\"Brennweite : {0} %\".format(round((focusDistanceLens3 - focusDistanceLens3_approx)\n",
    "                                        / focusDistanceLens3 * 100, 1)))\n",
    "print(\"Brechkraft : {0} %\".format(round((refractivityLens3 - refractivityLens3_approx)\n",
    "                                        / refractivityLens3 * 100, 1)))"
   ]
  },
  {
   "cell_type": "markdown",
   "metadata": {},
   "source": [
    "## V41"
   ]
  },
  {
   "cell_type": "code",
   "execution_count": null,
   "metadata": {},
   "outputs": [],
   "source": [
    "def Dkorr(b_, b):\n",
    "    return 1 / b_ - 1 / b\n",
    "b = 0.30\n",
    "b1 = 0.60\n",
    "b2 = 0.20\n",
    "print(\"Dkorr1: {0:.3f} dpt\".format(Dkorr(b1, b)))\n",
    "print(\"Dkorr2: {0:.3f} dpt\".format(Dkorr(b2, b)))"
   ]
  },
  {
   "cell_type": "code",
   "execution_count": null,
   "metadata": {},
   "outputs": [],
   "source": [
    "objectDistanceNear = np.load(\"./DataV4041Part4Near.npy\")[0] * 1e-2 # m\n",
    "imageDistanceNear = np.load(\"./DataV4041Part4Near.npy\")[1] * 1e-2 # m\n",
    "\n",
    "focusDistanceNear = f(objectDistanceNear, imageDistanceNear)\n",
    "refractivityNear = 1 / focusDistanceNear\n",
    "\n",
    "objectDistanceFar = np.load(\"./DataV4041Part4Far.npy\")[0] * 1e-2 # m\n",
    "imageDistanceFar = np.load(\"./DataV4041Part4Far.npy\")[1] * 1e-2 # m\n",
    "\n",
    "focusDistanceFar = f(objectDistanceFar, imageDistanceFar)\n",
    "refractivityFar = 1 / focusDistanceFar\n",
    "\n",
    "print(\"Brennweite Nahpunkt = {0:.2f} m\".format(focusDistanceNear))\n",
    "print(\"Brechkraft Nahpunkt = {0:.2f} dpt\".format(refractivityNear))\n",
    "print(\"Brennweite Fernpunkt = {0:.2f} m\".format(focusDistanceFar))\n",
    "print(\"Brechkraft Fernpunkt = {0:.2f} dpt\".format(refractivityFar))\n",
    "\n",
    "print(\"Akkomodation : {0:.2f} dpt\".format(refractivityNear - refractivityFar))"
   ]
  }
 ],
 "metadata": {
  "kernelspec": {
   "display_name": "Python 3",
   "language": "python",
   "name": "python3"
  },
  "language_info": {
   "codemirror_mode": {
    "name": "ipython",
    "version": 3
   },
   "file_extension": ".py",
   "mimetype": "text/x-python",
   "name": "python",
   "nbconvert_exporter": "python",
   "pygments_lexer": "ipython3",
   "version": "3.6.9"
  }
 },
 "nbformat": 4,
 "nbformat_minor": 2
}
