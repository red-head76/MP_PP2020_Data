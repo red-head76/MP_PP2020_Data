{
 "cells": [
  {
   "cell_type": "markdown",
   "metadata": {},
   "source": [
    "## V64"
   ]
  },
  {
   "cell_type": "code",
   "execution_count": null,
   "metadata": {},
   "outputs": [],
   "source": [
    "import numpy as np\n",
    "import matplotlib.pyplot as plt\n",
    "from scipy.stats import linregress"
   ]
  },
  {
   "cell_type": "code",
   "execution_count": null,
   "metadata": {},
   "outputs": [],
   "source": [
    "N_bg = np.load(\"./DataV64Nbg.npy\")\n",
    "\n",
    "def doEvaV64(x, N, rho):\n",
    "    # Lineare Regression\n",
    "    slope, intercept, r_value, p_value, std_err = linregress(x* 1e-3, np.log(N - N_bg))\n",
    "\n",
    "    fig, (ax1, ax2) = plt.subplots(1, 2, figsize=(16, 6))\n",
    "    ax1.plot(x, N, marker='+', markersize=10, markeredgewidth=3, ls='', label=\"Daten\")\n",
    "    ax1.grid()\n",
    "    ax1.set_xlabel(\"Absorberdicke [mm]\")\n",
    "    ax1.set_ylabel(\"Pulszahl\")\n",
    "    ax1.set_ylim(100, 1200)\n",
    "    ax1.legend()\n",
    "    ax1.set_title(\"Lineare Skala\")\n",
    "    ax2.plot(x, N, marker='+', markersize=10, markeredgewidth=3, ls='', label=\"Daten\")\n",
    "    ax2.plot(x, np.exp((slope * x * 1e-3 + intercept)), label=\"Fit\")\n",
    "    ax2.set_xlabel(\"Absorberdicke [mm]\")\n",
    "    ax2.set_ylabel(\"Pulszahl\")\n",
    "    ax2.set_ylim(100, 1200)\n",
    "    ax2.grid(True, which=\"both\")\n",
    "    ax2.semilogy()\n",
    "    ax2.legend()\n",
    "    ax2.set_title(\"Halblogarithmische Skala\")\n",
    "    plt.show()\n",
    "    \n",
    "    mu = slope * 1e-2\n",
    "    print(\"Abschwächungskoeffizient µ = {0:.3f} cm⁻¹\".format(mu))\n",
    "    print(\"Halbwertsdicke d12 = {0:.3f} cm\".format(-np.log(2) / mu))\n",
    "    print(\"Massenschächungskoeffizient µ/ρ = {0:.3f} g/cm³\".format(-mu / rho))"
   ]
  },
  {
   "cell_type": "markdown",
   "metadata": {},
   "source": [
    "### Aluminium"
   ]
  },
  {
   "cell_type": "code",
   "execution_count": null,
   "metadata": {},
   "outputs": [],
   "source": [
    "x_alu = np.load(\"./DataV64Alu.npy\")[0] # mm\n",
    "N_alu = np.load(\"./DataV64Alu.npy\")[1]\n",
    "\n",
    "doEvaV64(x_alu, N_alu, 2.70)"
   ]
  },
  {
   "cell_type": "markdown",
   "metadata": {},
   "source": [
    "### Kupfer "
   ]
  },
  {
   "cell_type": "code",
   "execution_count": null,
   "metadata": {},
   "outputs": [],
   "source": [
    "x_cu = np.load(\"./DataV64Cu.npy\")[0] # mm\n",
    "N_cu = np.load(\"./DataV64Cu.npy\")[1]\n",
    "\n",
    "doEvaV64(x_cu, N_cu, 8.96)"
   ]
  },
  {
   "cell_type": "markdown",
   "metadata": {},
   "source": [
    "### Aufgabe nach der Durchführung: Halbwertsdicke von Blei"
   ]
  },
  {
   "cell_type": "code",
   "execution_count": null,
   "metadata": {},
   "outputs": [],
   "source": [
    "mu_m = 0.06 # cm² / g\n",
    "rho_pb = 11.35 # g / cm³\n",
    "mu_pb = mu_m * rho_pb\n",
    "print(\"Schwächungskoeffizient µ_pb = {0:.3f} cm⁻¹\".format(mu_pb))\n",
    "print(\"Halbwertsdicke = {0:.3f} cm\".format(np.log(2) / mu_pb)) # cm"
   ]
  }
 ],
 "metadata": {
  "kernelspec": {
   "display_name": "Python 3",
   "language": "python",
   "name": "python3"
  },
  "language_info": {
   "codemirror_mode": {
    "name": "ipython",
    "version": 3
   },
   "file_extension": ".py",
   "mimetype": "text/x-python",
   "name": "python",
   "nbconvert_exporter": "python",
   "pygments_lexer": "ipython3",
   "version": "3.8.2"
  }
 },
 "nbformat": 4,
 "nbformat_minor": 2
}
