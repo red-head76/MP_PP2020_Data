{
 "cells": [
  {
   "cell_type": "markdown",
   "metadata": {},
   "source": [
    "## V42"
   ]
  },
  {
   "cell_type": "code",
   "execution_count": null,
   "metadata": {},
   "outputs": [],
   "source": [
    "import numpy as np"
   ]
  },
  {
   "cell_type": "markdown",
   "metadata": {},
   "source": [
    "### Teil 1: Brechungsindex"
   ]
  },
  {
   "cell_type": "code",
   "execution_count": null,
   "metadata": {},
   "outputs": [],
   "source": [
    "alphas = np.load(\"./DataV42Part1.npy\")[0]\n",
    "betas = np.load(\"./DataV42Part1.npy\")[1]\n",
    "\n",
    "refractionIndex = np.sin(np.radians(alphas)) / np.sin(np.radians(betas))\n",
    "print(\"Brechungsindicees n: \", np.round(refractionIndex, 3))\n",
    "print(\"Mittelwert = {0:.3f}\".format(np.mean(refractionIndex)))\n",
    "angleOfTotalReflection = np.load(\"./DataV42angleOfTotalReflection.npy\")\n",
    "refractionIndex_tot = (1 / np.sin(np.radians(angleOfTotalReflection)))\n",
    "print(\"Brechungsindex über Totalreflexion = {0:.3f}\".format(refractionIndex_tot))"
   ]
  }
 ],
 "metadata": {
  "kernelspec": {
   "display_name": "Python 3",
   "language": "python",
   "name": "python3"
  },
  "language_info": {
   "codemirror_mode": {
    "name": "ipython",
    "version": 3
   },
   "file_extension": ".py",
   "mimetype": "text/x-python",
   "name": "python",
   "nbconvert_exporter": "python",
   "pygments_lexer": "ipython3",
   "version": "3.6.9"
  }
 },
 "nbformat": 4,
 "nbformat_minor": 2
}
