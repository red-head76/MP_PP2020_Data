{
 "cells": [
  {
   "cell_type": "markdown",
   "metadata": {},
   "source": [
    "## Auswertung V14"
   ]
  },
  {
   "cell_type": "code",
   "execution_count": null,
   "metadata": {},
   "outputs": [],
   "source": [
    "import numpy as np\n",
    "import matplotlib.pyplot as plt"
   ]
  },
  {
   "cell_type": "code",
   "execution_count": null,
   "metadata": {},
   "outputs": [],
   "source": [
    "# special heat capacity [J / (g K)]\n",
    "c_cu = 0.38\n",
    "# heat capacity thermometer [J / K]\n",
    "Gamma_T = 5\n",
    "# mass weight [kg]\n",
    "m = 5\n",
    "# gravity [m/s^2]\n",
    "g = 9.81\n",
    "# rotations\n",
    "n = 200\n",
    "\n",
    "# copper mass [g], total mass [g]\n",
    "# temp before heating [°C], temp after heating [°C]\n",
    "# diameter of the calorimeter [mm]\n",
    "m_cu, m_ges, T_1, T_2, d = np.round(np.load(\"DataV14Part1.npy\"), 1)\n",
    "# radius [m]\n",
    "r = d / 1000 / 2\n",
    "# heat capacity calorimeter [J / K]\n",
    "Gamma_K = c_cu * (m_cu)\n",
    "# mass water [g]\n",
    "m_w = m_ges - m_cu\n",
    "# temperature difference [K]\n",
    "Delta_T = T_2 - T_1\n",
    "\n",
    "print(\"heat capacity calorimeter = {:.2f} J / K\".format(Gamma_K))\n",
    "print(\"mass water = {:.2f} g\".format(m_w))\n",
    "print(\"temperature difference = {:.2f} K\".format(Delta_T))\n",
    "# special heat capacity water [J / (g K)]\n",
    "c_w = (m * g * n * 2 * np.pi * r - (Gamma_K + Gamma_T) * Delta_T) / (m_w * Delta_T)\n",
    "\n",
    "print(\"special heat capacity water = {:.2f} J / g / K\".format(c_w))"
   ]
  }
 ],
 "metadata": {
  "kernelspec": {
   "display_name": "Python 3",
   "language": "python",
   "name": "python3"
  },
  "language_info": {
   "codemirror_mode": {
    "name": "ipython",
    "version": 3
   },
   "file_extension": ".py",
   "mimetype": "text/x-python",
   "name": "python",
   "nbconvert_exporter": "python",
   "pygments_lexer": "ipython3",
   "version": "3.8.5"
  }
 },
 "nbformat": 4,
 "nbformat_minor": 4
}
