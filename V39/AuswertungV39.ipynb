{
 "cells": [
  {
   "cell_type": "markdown",
   "metadata": {},
   "source": [
    "## V39"
   ]
  },
  {
   "cell_type": "code",
   "execution_count": null,
   "metadata": {},
   "outputs": [],
   "source": [
    "import numpy as np\n",
    "import matplotlib.pyplot as plt\n",
    "import sys\n",
    "sys.path.insert(0,'../..')\n",
    "from evaluation_base import linearRegression"
   ]
  },
  {
   "cell_type": "code",
   "execution_count": null,
   "metadata": {},
   "outputs": [],
   "source": [
    "plt.rcParams['figure.figsize'] = 10, 6"
   ]
  },
  {
   "cell_type": "markdown",
   "metadata": {},
   "source": [
    "### Teil 1: Potentialverlauf am Kohlepapierstreifen"
   ]
  },
  {
   "cell_type": "code",
   "execution_count": null,
   "metadata": {},
   "outputs": [],
   "source": [
    "# load data\n",
    "data_part1 = np.load(\"./DataV39Part1.npy\")\n",
    "positions = data_part1[0]\n",
    "voltages = data_part1[1]\n",
    "nonzeromask = np.where(np.logical_and(voltages>0, voltages<4.8))\n",
    "print(\"All Datapoints:\")\n",
    "plt.plot(positions, voltages, ls='', marker='+')\n",
    "plt.xlabel(\"Position [cm]\")\n",
    "plt.ylabel(\"Voltage [V]\")\n",
    "plt.show()\n",
    "print(\"Linfit:\")\n",
    "slope, intercept = linearRegression(positions[nonzeromask], voltages[nonzeromask], \"Position [cm]\", \"Voltage [V]\")\n",
    "\n",
    "print(\"Slope b = {0} V/m\".format(round(slope, 2)))"
   ]
  },
  {
   "cell_type": "markdown",
   "metadata": {},
   "source": [
    "### Teil 3: EKG-Ableitung"
   ]
  },
  {
   "cell_type": "code",
   "execution_count": null,
   "metadata": {},
   "outputs": [],
   "source": [
    "from scipy.optimize import curve_fit\n",
    "def sin(x, A, omega, phi):\n",
    "    return A * np.sin(omega * x + phi)\n",
    "\n",
    "def fit_sin(x, y, p0):\n",
    "    popt, pcov = curve_fit(sin, x, y, p0)\n",
    "    return popt, pcov\n",
    "# load data\n",
    "data_part2 = np.load(\"./DataV39Part2.npy\")\n",
    "positions2 = data_part2[0]\n",
    "voltages2RL = data_part2[1]\n",
    "voltages2LF = data_part2[2]\n",
    "voltages2FR = data_part2[3]\n",
    "\n",
    "angles = np.linspace(0, 360, 361)\n",
    "for i in range(1, 4):\n",
    "    p0 = [0.3, 1/360, (i-1) * 120]\n",
    "    popt, pcov = fit_sin(positions2, data_part2[i], p0)\n",
    "    plt.plot(angles, sin(angles, *popt))\n",
    "\n",
    "plt.plot(positions2, voltages2RL, ls=':', marker='+', label=\"RL\", color='C0')\n",
    "plt.plot(positions2, voltages2LF, ls=':', marker='+', label=\"LF\", color='C1')\n",
    "plt.plot(positions2, voltages2FR, ls=':', marker='+', label=\"RF\", color='C2')\n",
    "plt.legend()\n",
    "plt.xlabel(\"Angle [Degree]\")\n",
    "plt.ylabel(\"Voltage [V]\")\n",
    "plt.show()"
   ]
  }
 ],
 "metadata": {
  "kernelspec": {
   "display_name": "Python 3",
   "language": "python",
   "name": "python3"
  },
  "language_info": {
   "codemirror_mode": {
    "name": "ipython",
    "version": 3
   },
   "file_extension": ".py",
   "mimetype": "text/x-python",
   "name": "python",
   "nbconvert_exporter": "python",
   "pygments_lexer": "ipython3",
   "version": "3.8.5"
  }
 },
 "nbformat": 4,
 "nbformat_minor": 2
}
