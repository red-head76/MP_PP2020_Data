{
 "cells": [
  {
   "cell_type": "markdown",
   "metadata": {},
   "source": [
    "## Auswertung V8"
   ]
  },
  {
   "cell_type": "code",
   "execution_count": null,
   "metadata": {},
   "outputs": [],
   "source": [
    "import numpy as np\n",
    "import matplotlib.pyplot as plt\n",
    "import sys\n",
    "sys.path.insert(0,'../..')\n",
    "from evaluation_base import linearRegression\n",
    "\n",
    "def c_s(T):\n",
    "    return 331 * np.sqrt(T / 273)\n",
    "def c(lamb, f=2e3):\n",
    "    return lamb * f"
   ]
  },
  {
   "cell_type": "code",
   "execution_count": null,
   "metadata": {},
   "outputs": [],
   "source": [
    "plt.rcParams['figure.figsize'] = 10, 6"
   ]
  },
  {
   "cell_type": "markdown",
   "metadata": {},
   "source": [
    "### Schallgeschwindigkeit durch Temperaturessung"
   ]
  },
  {
   "cell_type": "code",
   "execution_count": null,
   "metadata": {},
   "outputs": [],
   "source": [
    "T = 20 + 273.15\n",
    "cs = c_s(T)\n",
    "print(\"Schallgeschwindigkeit mit Tempmessung = {0} m/s\".format(round(cs, 1)))"
   ]
  },
  {
   "cell_type": "markdown",
   "metadata": {},
   "source": [
    "### Teil 1: Quinck pipe"
   ]
  },
  {
   "cell_type": "code",
   "execution_count": null,
   "metadata": {},
   "outputs": [],
   "source": [
    "minima = np.load(\"./DataV8Part1.npy\")\n",
    "diffs1 = np.diff(minima)\n",
    "print(\"Differenzen [cm]:\", diffs1)\n",
    "print(\"Mittelwert [cm]:\", np.mean(diffs1))\n",
    "lamb1 = round(np.mean(diffs1) * 1e-2 * 2, 5)\n",
    "print(\"Wellenlaenge = {0} m\".format(lamb1))\n",
    "c1 = round(c(lamb1, f=2e3), 1)\n",
    "print(\"Schallgeschwindigkeit = {0} m/s\".format(c1))"
   ]
  },
  {
   "cell_type": "markdown",
   "metadata": {},
   "source": [
    "### Teil 2: Ultraschall"
   ]
  },
  {
   "cell_type": "code",
   "execution_count": null,
   "metadata": {},
   "outputs": [],
   "source": [
    "distances = np.load(\"./DataV8Part2.npy\")\n",
    "diffs2 = np.diff(distances)\n",
    "print(\"Differenzen [cm]:\", diffs2)\n",
    "lamb2 = round(np.mean(diffs2) * 1e-3, 5)\n",
    "print(\"Wellenlaenge = {0} m\".format(lamb2))\n",
    "c2 = round(c(lamb2, f=40692), 1)\n",
    "print(\"Schallgeschwindigkeit = {0} m/s\".format(c2))"
   ]
  },
  {
   "cell_type": "markdown",
   "metadata": {},
   "source": [
    "### Teil 3: Echolot Verfahren"
   ]
  },
  {
   "cell_type": "code",
   "execution_count": null,
   "metadata": {},
   "outputs": [],
   "source": [
    "distances = np.load(\"./DataV8Part3.npy\")[0]\n",
    "times = np.load(\"./DataV8Part3.npy\")[1]\n",
    "\n",
    "slope, intercept = linearRegression(distances, times, \"Distanzen [mm]\", \"Zeiten [ms]\")\n",
    "# 2 because it is the time for back and forth, but distance is one way\n",
    "c3 = round(2 / slope, 1)\n",
    "print(\"Schallgeschwindigkeit = {0} m/s\".format(c3))"
   ]
  },
  {
   "cell_type": "markdown",
   "metadata": {},
   "source": [
    "### Fragen nach der Durchfuehrung"
   ]
  },
  {
   "cell_type": "code",
   "execution_count": null,
   "metadata": {},
   "outputs": [],
   "source": [
    "# Orgelpfeifenlänge:\n",
    "lamb_orgel = 340 / 440 # m\n",
    "# orgellänge = lamb / 4\n",
    "l_orgel = lamb_orgel / 4\n",
    "print(\"Länge der Orgel : %.3f m\" % l_orgel)\n",
    "# Wellenlänge Ultraschallfrq:\n",
    "lamb_ultra = 1600 / 8e6\n",
    "print(\"Ultraschallwellenlänge : %.4f m\" % lamb_ultra)"
   ]
  }
 ],
 "metadata": {
  "kernelspec": {
   "display_name": "Python 3",
   "language": "python",
   "name": "python3"
  },
  "language_info": {
   "codemirror_mode": {
    "name": "ipython",
    "version": 3
   },
   "file_extension": ".py",
   "mimetype": "text/x-python",
   "name": "python",
   "nbconvert_exporter": "python",
   "pygments_lexer": "ipython3",
   "version": "3.8.5"
  }
 },
 "nbformat": 4,
 "nbformat_minor": 2
}
