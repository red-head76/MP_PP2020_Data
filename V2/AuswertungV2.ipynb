{
 "cells": [
  {
   "cell_type": "markdown",
   "metadata": {},
   "source": [
    "## Auswertung V2"
   ]
  },
  {
   "cell_type": "code",
   "execution_count": null,
   "metadata": {},
   "outputs": [],
   "source": [
    "import numpy as np\n",
    "import matplotlib.pyplot as plt\n",
    "import sys\n",
    "sys.path.insert(0,'../..')\n",
    "from evaluation_base import linearRegression"
   ]
  },
  {
   "cell_type": "code",
   "execution_count": null,
   "metadata": {},
   "outputs": [],
   "source": [
    "plt.rcParams['figure.figsize'] = 10, 6"
   ]
  },
  {
   "cell_type": "markdown",
   "metadata": {},
   "source": [
    "### Teil 1: Statische Messung"
   ]
  },
  {
   "cell_type": "code",
   "execution_count": null,
   "metadata": {},
   "outputs": [],
   "source": [
    "# load data\n",
    "data_part1 = np.load(\"./DataV2Part1.npy\")\n",
    "masses = data_part1[0]\n",
    "lengths = data_part1[1]\n",
    "\n",
    "slope, intercept = linearRegression(masses, lengths, \"Masses [g]\", \"Length [mm]\")\n",
    "\n",
    "print(\"Slope b = {0} m/kg\".format(round(slope, 2)))\n",
    "print(\"Spring constant D = g / b = {0} kg/s^2\".format(round(9.81 / slope, 2)))"
   ]
  },
  {
   "cell_type": "markdown",
   "metadata": {},
   "source": [
    "### Teil 2: Dynamische Messung"
   ]
  },
  {
   "cell_type": "code",
   "execution_count": null,
   "metadata": {},
   "outputs": [],
   "source": [
    "# load data\n",
    "data_part2 = np.load(\"./DataV2Part2.npy\")\n",
    "masses = data_part2[0]\n",
    "# Divided by 10, because the data saves 10 Period times\n",
    "times_squared = (data_part2[1] / 10)**2\n",
    "\n",
    "slope, intercept = linearRegression(masses, times_squared, \"Masses [g]\", \"Period times squared [s^2]\")\n",
    "\n",
    "print(\"Slope b = {0} g/s\".format(round(slope, 3)))\n",
    "print(\"Spring constant D = 4π^2 / b = {0} kg/s^2\".format(round(4 * np.pi**2 / slope / 1000, 2)))"
   ]
  },
  {
   "cell_type": "markdown",
   "metadata": {},
   "source": [
    "### Teil 3: Bestimmung der Federmasse"
   ]
  },
  {
   "cell_type": "code",
   "execution_count": null,
   "metadata": {},
   "outputs": [],
   "source": [
    "mz = -intercept / slope\n",
    "mf = - 3 * mz\n",
    "print(\"Spring mass m_F = {:.2f} g\".format(mf))"
   ]
  }
 ],
 "metadata": {
  "kernelspec": {
   "display_name": "Python 3",
   "language": "python",
   "name": "python3"
  },
  "language_info": {
   "codemirror_mode": {
    "name": "ipython",
    "version": 3
   },
   "file_extension": ".py",
   "mimetype": "text/x-python",
   "name": "python",
   "nbconvert_exporter": "python",
   "pygments_lexer": "ipython3",
   "version": "3.8.2"
  }
 },
 "nbformat": 4,
 "nbformat_minor": 2
}
